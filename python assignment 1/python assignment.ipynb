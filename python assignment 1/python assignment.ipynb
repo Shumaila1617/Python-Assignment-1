{
  "nbformat": 4,
  "nbformat_minor": 0,
  "metadata": {
    "colab": {
      "provenance": []
    },
    "kernelspec": {
      "name": "python3",
      "display_name": "Python 3"
    },
    "language_info": {
      "name": "python"
    }
  },
  "cells": [
    {
      "cell_type": "markdown",
      "source": [
        "Part 1: Operators\n",
        "Exercise 1: Arithmetic Operators\n",
        "Write a Python program to perform the following operations:\n",
        "1. Add, subtract, multiply, and divide two numbers (input by the user).\n",
        "2. Use the modulus operator to find the remainder of their division.\n",
        "3. Use the exponentiation operator to raise the first number to the power of the second\n",
        "number.\n",
        "4. Perform floor division on the two numbers."
      ],
      "metadata": {
        "id": "hQGvFiJjW4pv"
      }
    },
    {
      "cell_type": "code",
      "source": [
        "#Get input from the user\n",
        "num1=float(input(\"Enter first number:\"))\n",
        "num2=float(input(\"Enter second number:\"))\n",
        "# Perform calculations\n",
        "addition = num1 + num2\n",
        "subtraction = num1 - num2\n",
        "multiplication = num1 * num2\n",
        "division = num1 / num2\n",
        "modulus = num1 % num2\n",
        "exponentiation = num1 ** num2\n",
        "floor_division = num1 // num2\n",
        "# Display results\n",
        "print(f\"Addition: {addition}\")\n",
        "print(f\"Subtraction: {subtraction}\")\n",
        "print(f\"Multiplication: {multiplication}\")\n",
        "print(f\"Division: {division:.2f}\")\n",
        "print(f\"Modulus: {modulus}\")\n",
        "print(f\"Exponentiation: {exponentiation}\")\n",
        "print(f\"Floor Division: {floor_division}\")"
      ],
      "metadata": {
        "colab": {
          "base_uri": "https://localhost:8080/"
        },
        "id": "GgGOvefaR8rm",
        "outputId": "a2c44c08-a8a7-4424-9a2a-d6ea9177815e"
      },
      "execution_count": 7,
      "outputs": [
        {
          "output_type": "stream",
          "name": "stdout",
          "text": [
            "Enter first number:10\n",
            "Enter second number:3\n",
            "Addition: 13.0\n",
            "Subtraction: 7.0\n",
            "Multiplication: 30.0\n",
            "Division: 3.33\n",
            "Modulus: 1.0\n",
            "Exponentiation: 1000.0\n",
            "Floor Division: 3.0\n"
          ]
        }
      ]
    },
    {
      "cell_type": "markdown",
      "source": [
        "Exercise 2: Comparison Operators\n",
        "Write a Python program that asks for two numbers and checks:\n",
        "1. If the first number is greater than the second.\n",
        "2. If the first number is equal to the second.\n",
        "3. If the first number is less than or equal to the second.\n",
        "Print the results."
      ],
      "metadata": {
        "id": "baInLEnCS0Vu"
      }
    },
    {
      "cell_type": "code",
      "source": [
        "# Comparison Operations\n",
        "# Get input from the user\n",
        "num1 = float(input(\"Enter first number: \"))\n",
        "num2 = float(input(\"Enter second number: \"))\n",
        "# Perform comparisons\n",
        "greater_than = num1 > num2\n",
        "equal_to = num1 == num2\n",
        "less_than_or_equal = num1 <= num2\n",
        "# Display results\n",
        "print(f\"Is the first number greater than the second? {greater_than}\")\n",
        "print(f\"Is the first number equal to the second? {equal_to}\")\n",
        "print(f\"Is the first number less than or equal to the second? {less_than_or_equal}\")"
      ],
      "metadata": {
        "colab": {
          "base_uri": "https://localhost:8080/"
        },
        "id": "K6xk6BldTBJZ",
        "outputId": "1f62b6b0-4b94-4eda-ccf5-c3be0543ce15"
      },
      "execution_count": 8,
      "outputs": [
        {
          "output_type": "stream",
          "name": "stdout",
          "text": [
            "Enter first number: 23\n",
            "Enter second number: 34\n",
            "Is the first number greater than the second? False\n",
            "Is the first number equal to the second? False\n",
            "Is the first number less than or equal to the second? True\n"
          ]
        }
      ]
    },
    {
      "cell_type": "markdown",
      "source": [
        "Exercise 3: Logical Operators\n",
        "Write a Python program that:\n",
        "1. Takes three boolean values (True or False) as input.\n",
        "2. Uses and, or, and not operators to return the result of combining them."
      ],
      "metadata": {
        "id": "sx3k6mblTYCI"
      }
    },
    {
      "cell_type": "code",
      "source": [
        "# Logical Operations\n",
        "# Get input from the user\n",
        "a = input(\"Enter first boolean value (True/False): \") == 'True'\n",
        "b = input(\"Enter second boolean value (True/False): \") == 'True'\n",
        "c = input(\"Enter third boolean value (True/False): \") == 'True'\n",
        "# Combine boolean values using logical operators\n",
        "and_result = a and b and c\n",
        "or_result = a or b or c\n",
        "not_result1 = not a\n",
        "not_result2 = not b\n",
        "not_result3 = not c\n",
        "# Display results\n",
        "print(f\"AND result: {and_result}\")\n",
        "print(f\"OR result: {or_result}\")\n",
        "print(f\"NOT first boolean: {not_result1}\")\n",
        "print(f\"NOT second boolean: {not_result2}\")\n",
        "print(f\"NOT third boolean: {not_result3}\")"
      ],
      "metadata": {
        "colab": {
          "base_uri": "https://localhost:8080/"
        },
        "id": "srOaRDGITeGX",
        "outputId": "c8e074c3-3546-4e36-f71a-9c96cb4ec25a"
      },
      "execution_count": 9,
      "outputs": [
        {
          "output_type": "stream",
          "name": "stdout",
          "text": [
            "Enter first boolean value (True/False): True\n",
            "Enter second boolean value (True/False): False\n",
            "Enter third boolean value (True/False): True\n",
            "AND result: False\n",
            "OR result: True\n",
            "NOT first boolean: False\n",
            "NOT second boolean: True\n",
            "NOT third boolean: False\n"
          ]
        }
      ]
    },
    {
      "cell_type": "markdown",
      "source": [
        "Part 2: Strings\n",
        "Exercise 4: String Manipulation\n",
        "1. Take a string input from the user.\n",
        "2. Display the following:\n",
        "o The length of the string.\n",
        "o The first and last character.\n",
        "o The string in reverse order.\n",
        "o The string in uppercase and lowercase."
      ],
      "metadata": {
        "id": "G-DuZnm2TwiH"
      }
    },
    {
      "cell_type": "code",
      "source": [
        "# String Manipulation\n",
        "# Get string input from the user\n",
        "user_string = input(\"Enter a string: \")\n",
        "# Perform string manipulations\n",
        "string_length = len(user_string)\n",
        "first_character = user_string[0]\n",
        "last_character = user_string[-1]\n",
        "reversed_string = user_string[::-1]\n",
        "uppercase_string = user_string.upper()\n",
        "lowercase_string = user_string.lower()\n",
        "# Display results\n",
        "print(f\"Length of string: {string_length}\")\n",
        "print(f\"First character: {first_character}\")\n",
        "print(f\"Last character: {last_character}\")\n",
        "print(f\"Reversed string: {reversed_string}\")\n",
        "print(f\"Uppercase string: {uppercase_string}\")\n",
        "print(f\"Lowercase string: {lowercase_string}\")"
      ],
      "metadata": {
        "colab": {
          "base_uri": "https://localhost:8080/"
        },
        "id": "KTMy96taT2vm",
        "outputId": "c959093b-c624-4c64-f916-51db59fc2a11"
      },
      "execution_count": 10,
      "outputs": [
        {
          "output_type": "stream",
          "name": "stdout",
          "text": [
            "Enter a string: Shumaila\n",
            "Length of string: 8\n",
            "First character: S\n",
            "Last character: a\n",
            "Reversed string: aliamuhS\n",
            "Uppercase string: SHUMAILA\n",
            "Lowercase string: shumaila\n"
          ]
        }
      ]
    },
    {
      "cell_type": "markdown",
      "source": [
        "Exercise 5: String Formatting\n",
        "Write a program that asks for the user's name and age, and displays the message in this format:\n",
        "Hello [Name], you are [Age] years old."
      ],
      "metadata": {
        "id": "2wmY79xTT72i"
      }
    },
    {
      "cell_type": "code",
      "source": [
        "# String Formatting\n",
        "# Get user input for name and age\n",
        "name = input(\"Enter your name: \")\n",
        "age = input(\"Enter your age: \")\n",
        "# Display message\n",
        "print(f\"Hello {name}, you are {age} years old.\")"
      ],
      "metadata": {
        "colab": {
          "base_uri": "https://localhost:8080/"
        },
        "id": "JKN3KFWxUCBg",
        "outputId": "efa7f0c2-cd7d-4acb-8b6b-21e9da60fffe"
      },
      "execution_count": 11,
      "outputs": [
        {
          "output_type": "stream",
          "name": "stdout",
          "text": [
            "Enter your name: Shumaila\n",
            "Enter your age: 23\n",
            "Hello Shumaila, you are 23 years old.\n"
          ]
        }
      ]
    },
    {
      "cell_type": "markdown",
      "source": [],
      "metadata": {
        "id": "nITayjMXUIKn"
      }
    },
    {
      "cell_type": "markdown",
      "source": [
        "Exercise 6: Substring Search\n",
        "Write a Python program that:\n",
        "1. Asks for a sentence input from the user.\n",
        "2. Asks for a word to search in the sentence.\n",
        "3. Outputs whether the word exists in the sentence and, if it does, at which position (index)."
      ],
      "metadata": {
        "id": "tsFqAMMyUIfj"
      }
    },
    {
      "cell_type": "code",
      "source": [
        "# Get input from the user\n",
        "sentence = input(\"Enter a sentence: \")\n",
        "word_to_search = input(\"Enter a word to search for: \")\n",
        "\n",
        "# Check if the word exists in the sentence\n",
        "if word_to_search in sentence:\n",
        "    # Find the index of the word\n",
        "    index = sentence.find(word_to_search)\n",
        "    print(f\"The word '{word_to_search}' exists in the sentence at index {index}.\")\n",
        "else:\n",
        "    print(f\"The word '{word_to_search}' does not exist in the sentence.\")\n"
      ],
      "metadata": {
        "colab": {
          "base_uri": "https://localhost:8080/"
        },
        "id": "ziNjr4vJUfBx",
        "outputId": "031e486e-1878-4db2-da96-ace984cabe10"
      },
      "execution_count": 12,
      "outputs": [
        {
          "output_type": "stream",
          "name": "stdout",
          "text": [
            "Enter a sentence: I am a student of MCA\n",
            "Enter a word to search for: am\n",
            "The word 'am' exists in the sentence at index 2.\n"
          ]
        }
      ]
    },
    {
      "cell_type": "markdown",
      "source": [
        "Part 3: Lists\n",
        "Exercise 7: List Operations\n",
        "Write a Python program that:\n",
        "1. Creates a list of 5 numbers (input from the user).\n",
        "2. Displays the sum of all the numbers in the list.\n",
        "3. Finds the largest and smallest number in the list."
      ],
      "metadata": {
        "id": "Z9lnReC8VC-Y"
      }
    },
    {
      "cell_type": "code",
      "source": [
        "# Create an empty list to store the numbers\n",
        "numbers = []\n",
        "\n",
        "# Get input from the user for 5 numbers\n",
        "for i in range(5):\n",
        "    number = float(input(f\"Enter number {i+1}: \"))\n",
        "    numbers.append(number)\n",
        "\n",
        "# Calculate the sum of the numbers\n",
        "sum_of_numbers = sum(numbers)\n",
        "\n",
        "# Find the largest and smallest numbers\n",
        "largest_number = max(numbers)\n",
        "smallest_number = min(numbers)\n",
        "\n",
        "# Print the results\n",
        "print(\"List of numbers:\", numbers)\n",
        "print(\"Sum of the numbers:\", sum_of_numbers)\n",
        "print(\"Largest number:\", largest_number)\n",
        "print(\"Smallest number:\", smallest_number)\n"
      ],
      "metadata": {
        "colab": {
          "base_uri": "https://localhost:8080/"
        },
        "id": "My9HvAZzVaak",
        "outputId": "00b2d28f-0476-4ed8-a7b1-0e44aa03ca0e"
      },
      "execution_count": 13,
      "outputs": [
        {
          "output_type": "stream",
          "name": "stdout",
          "text": [
            "Enter number 1: 12\n",
            "Enter number 2: 23\n",
            "Enter number 3: 34\n",
            "Enter number 4: 45\n",
            "Enter number 5: 56\n",
            "List of numbers: [12.0, 23.0, 34.0, 45.0, 56.0]\n",
            "Sum of the numbers: 170.0\n",
            "Largest number: 56.0\n",
            "Smallest number: 12.0\n"
          ]
        }
      ]
    },
    {
      "cell_type": "markdown",
      "source": [
        "Exercise 8: List Manipulation\n",
        "1. Create a list of 5 of your favorite fruits.\n",
        "2. Perform the following:\n",
        "o Add one more fruit to the list.\n",
        "o Remove the second fruit from the list.\n",
        "o Print the updated list."
      ],
      "metadata": {
        "id": "WnWA50qXVhfA"
      }
    },
    {
      "cell_type": "code",
      "source": [
        "\n",
        "# List Manipulation\n",
        "# Create a list of favorite fruits\n",
        "fruits = [\"Apple\", \"Banana\", \"Cherry\", \"Mango\", \"Orange\"]\n",
        "# Add a new fruit\n",
        "fruits.append(\"Pineapple\")\n",
        "# Remove the second fruit\n",
        "fruits.pop(1)\n",
        "# Display the updated list\n",
        "print(f\"Updated fruit list: {fruits}\")"
      ],
      "metadata": {
        "colab": {
          "base_uri": "https://localhost:8080/"
        },
        "id": "8SS_GfDrV8Cu",
        "outputId": "1bdb2f86-47d8-45f3-86a6-bd4468bd3d2b"
      },
      "execution_count": 14,
      "outputs": [
        {
          "output_type": "stream",
          "name": "stdout",
          "text": [
            "Updated fruit list: ['Apple', 'Cherry', 'Mango', 'Orange', 'Pineapple']\n"
          ]
        }
      ]
    },
    {
      "cell_type": "markdown",
      "source": [
        "Exercise 9: Sorting a List\n",
        "Write a Python program that:\n",
        "1. Asks the user to input a list of 5 numbers.\n",
        "2. Sorts the list in ascending order and displays it.\n",
        "3. Sorts the list in descending order and displays it.\n",
        "Exercise 10: List Slicing"
      ],
      "metadata": {
        "id": "vDeSCKGtV-cK"
      }
    },
    {
      "cell_type": "code",
      "source": [
        "# Exercise 9: Sorting a List\n",
        "# Get input from the user for a list of 5 numbers\n",
        "numbers = []\n",
        "for i in range(5):\n",
        "    number = float(input(f\"Enter number {i+1}: \"))\n",
        "    numbers.append(number)\n",
        "\n",
        "# Sort the list in ascending order\n",
        "numbers_ascending = sorted(numbers)\n",
        "print(\"List in ascending order:\", numbers_ascending)\n",
        "\n",
        "# Sort the list in descending order\n",
        "numbers_descending = sorted(numbers, reverse=True)\n",
        "print(\"List in descending order:\", numbers_descending)"
      ],
      "metadata": {
        "colab": {
          "base_uri": "https://localhost:8080/"
        },
        "id": "QMN2epL4Zyeb",
        "outputId": "bd984807-a704-4aba-fab2-a57e39a6773e"
      },
      "execution_count": 22,
      "outputs": [
        {
          "output_type": "stream",
          "name": "stdout",
          "text": [
            "Enter number 1: 12\n",
            "Enter number 2: 34\n",
            "Enter number 3: 56\n",
            "Enter number 4: 67\n",
            "Enter number 5: 78\n",
            "List in ascending order: [12.0, 34.0, 56.0, 67.0, 78.0]\n",
            "List in descending order: [78.0, 67.0, 56.0, 34.0, 12.0]\n"
          ]
        }
      ]
    },
    {
      "cell_type": "markdown",
      "source": [
        "Exercise 10: List Slicing\n",
        "Given the list numbers = [1, 2, 3, 4, 5, 6, 7, 8, 9, 10], perform the following:\n",
        "1. Print the first 5 elements.\n",
        "2. Print the last 5 elements.\n",
        "3. Print the elements from index 2 to index 7."
      ],
      "metadata": {
        "id": "YC07_Yp-Wbzt"
      }
    },
    {
      "cell_type": "code",
      "source": [
        "# List Slicing\n",
        "n = [1, 2, 3, 4, 5, 6, 7, 8, 9, 10]\n",
        "# Print the first 5 elements\n",
        "print(f\"First 5 elements: {n[:5]}\")\n",
        "# Print the last 5 elements\n",
        "print(f\"Last 5 elements: {n[-5:]}\")\n",
        "# Print elements from index 2 to index 7\n",
        "print(f\"Elements from index 2 to 7: {n[2:8]}\")"
      ],
      "metadata": {
        "colab": {
          "base_uri": "https://localhost:8080/"
        },
        "id": "IWP0eTSoWlnO",
        "outputId": "8728c20f-b9e1-4a0f-bae6-a84ce75e7a6d"
      },
      "execution_count": 18,
      "outputs": [
        {
          "output_type": "stream",
          "name": "stdout",
          "text": [
            "First 5 elements: [1, 2, 3, 4, 5]\n",
            "Last 5 elements: [6, 7, 8, 9, 10]\n",
            "Elements from index 2 to 7: [3, 4, 5, 6, 7, 8]\n"
          ]
        }
      ]
    },
    {
      "cell_type": "markdown",
      "source": [
        "Exercise 11: Nested List\n",
        "Write a Python program that:\n",
        "1. Takes input of 3 students' names and their respective scores in 3 subjects.\n",
        "2. Stores them in a nested list.\n",
        "3. Prints each student's name and their average score."
      ],
      "metadata": {
        "id": "nHE0HnPxWqYg"
      }
    },
    {
      "cell_type": "code",
      "source": [
        "\n",
        "# Create an empty list to store student data\n",
        "student_data = []\n",
        "\n",
        "# Get input for 3 students\n",
        "for i in range(3):\n",
        "    name = input(f\"Enter the name of student {i+1}: \")\n",
        "    scores = []\n",
        "    for j in range(3):\n",
        "        score = float(input(f\"Enter score for subject {j+1} for {name}: \"))\n",
        "        scores.append(score)\n",
        "    student_data.append([name, scores])\n",
        "\n",
        "# Calculate and print average score for each student\n",
        "for student in student_data:\n",
        "    name = student[0]\n",
        "    scores = student[1]\n",
        "    average_score = sum(scores) / len(scores)\n",
        "    print(f\"{name}'s average score: {average_score:.2f}\")"
      ],
      "metadata": {
        "colab": {
          "base_uri": "https://localhost:8080/"
        },
        "id": "TAyrUmX7Zcla",
        "outputId": "728a008d-2b0f-4834-d8ab-d60f3809d1ca"
      },
      "execution_count": 23,
      "outputs": [
        {
          "output_type": "stream",
          "name": "stdout",
          "text": [
            "Enter the name of student 1: Ankit\n",
            "Enter score for subject 1 for Ankit: 89\n",
            "Enter score for subject 2 for Ankit: 90\n",
            "Enter score for subject 3 for Ankit: 87\n",
            "Enter the name of student 2: Shumaila\n",
            "Enter score for subject 1 for Shumaila: 76\n",
            "Enter score for subject 2 for Shumaila: 89\n",
            "Enter score for subject 3 for Shumaila: 88\n",
            "Enter the name of student 3: Shivam\n",
            "Enter score for subject 1 for Shivam: 88\n",
            "Enter score for subject 2 for Shivam: 77\n",
            "Enter score for subject 3 for Shivam: 80\n",
            "Ankit's average score: 88.67\n",
            "Shumaila's average score: 84.33\n",
            "Shivam's average score: 81.67\n"
          ]
        }
      ]
    }
  ]
}